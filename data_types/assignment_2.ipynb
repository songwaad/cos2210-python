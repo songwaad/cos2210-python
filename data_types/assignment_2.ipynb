{
 "cells": [
  {
   "cell_type": "markdown",
   "id": "d2605c49",
   "metadata": {},
   "source": [
    "#### 1.จงเขียนโปรแกรมเพื่อตรวจสอบว่าวงกลมสองวงมีการ ทับซ้อน (overlap) แตะกัน  (touch) หรืออยู่แยกกัน (free) โดยรับข้อมูลของวงกลม 2 วง บรรทัดละหนึ่งวง  ประกอบด้วยจำนวนจริง 3 จำนวนคั่นด้วยช่องว่าง แทนพิกัด x กับ y ของจุดศูนย์กลาง  และรัศมีของวงกลม แล้วตรวจว่าวงกลมสองวงที่รับมาทับกันหรือแตะกันหรือไม่  ให้แสดงคำว่า touch เมื่อขอบของทั้งสองวงแตะกันพอดี แสดงคำว่า overlap  เมื่อสองวงทับกัน ถ้าไม่แตะหรือทับ ให้แสดงคำว่า free \n"
   ]
  },
  {
   "cell_type": "code",
   "execution_count": 5,
   "id": "f8d7ed4c",
   "metadata": {},
   "outputs": [
    {
     "name": "stdout",
     "output_type": "stream",
     "text": [
      "free\n"
     ]
    }
   ],
   "source": [
    "x1, y1, radius1 = map(int, input(\"Enter x, y, radius for Circle 1: \").split())\n",
    "x2, y2, radius2 = map(int, input(\"Enter x, y, radius for Circle 2: \").split())\n",
    "\n",
    "d = ((x2 - x1) ** 2 + (y2 - y1) ** 2) ** 0.5\n",
    "if d < radius1 + radius2:\n",
    "    print(\"overlap\")\n",
    "elif d == radius1 + radius2:\n",
    "    print(\"touch\")\n",
    "elif d > radius1 + radius2:\n",
    "    print(\"free\")\n",
    "\n"
   ]
  },
  {
   "cell_type": "markdown",
   "id": "45fdb251",
   "metadata": {},
   "source": [
    "#### 2.จงเขียนโปรแกรมให้คำนวณปริมาตรน้ำมันที่ใช้ในการเดินทาง โดยให้รับข้อมูลเข้าเป็น\n",
    "\n",
    "a. ระยะทางที่เดินทาง (เป็น ก.ม.)  \n",
    "b. ประเภทของรถยนต์ที่ใช้ \n",
    "   1. หมายถึง รถยนต์ขนาดเล็ก  \n",
    "   2. หมายถึง รถยนต์ขนาดกลาง \n",
    "   3. หมายถึง รถตู้ \n",
    "   \n",
    "c. ลักษณะการขับขี่รถยนต์  \n",
    "   1. หมายถึง ความเร็วไม่เกิน 80 ก.ม./ช.ม.  \n",
    "   2. หมายถึง ความเร็วเกิน 80 ก.ม./ช.ม. \n",
    "    \n",
    "แล้วคำนวณน้ำมันที่ใช้ตามอัตราการใช้น้ำมันเฉลี่ยในตาราง\n"
   ]
  },
  {
   "cell_type": "markdown",
   "id": "d5f2fd30",
   "metadata": {},
   "source": [
    "| ประเภทของรถยนต์ | ลักษณะการขับขี่รถยนต์ | อัตราการใช้น้ำมันเฉลี่ย |\n",
    "| ----------- | ----------- | ----------- |\n",
    "| ขนาดเล็ก | ความเร็วไม่เกิน 80 ก.ม./ช.ม. <br> ความเร็วเกิน 80 ก.ม./ช.ม. | 12 ก.ม./ลิตร <br> 10 ก.ม./ลิตร |\n",
    "| ขนาดกลาง | ความเร็วไม่เกิน 80 ก.ม./ช.ม. <br> ความเร็วเกิน 80 ก.ม./ช.ม. | 10 ก.ม./ลิตร <br> 8 ก.ม./ลิตร |\n",
    "| รถตู้ | ความเร็วไม่เกิน 80 ก.ม./ช.ม. <br> ความเร็วเกิน 80 ก.ม./ช.ม. | 9 ก.ม./ลิตร <br> 7 ก.ม./ลิตร |"
   ]
  },
  {
   "cell_type": "code",
   "execution_count": 3,
   "id": "ad279d8e",
   "metadata": {},
   "outputs": [
    {
     "name": "stdout",
     "output_type": "stream",
     "text": [
      "Fuel required: 16.67 liters.\n"
     ]
    }
   ],
   "source": [
    "travel_distance = float(input(\"Enter travel distance (km): \"))\n",
    "type_of_car = int(input(\"Enter the type of car: \"))\n",
    "driving_pattern = int(input(\"Enter driving pattern: \"))\n",
    "fuel_required = 0.0\n",
    "\n",
    "fuel_rate = {\n",
    "    1: {1: 12, 2:10},\n",
    "    2: {1: 10, 2:8},\n",
    "    3: {1: 9, 2:7}\n",
    "}\n",
    "\n",
    "fuel_required = travel_distance / fuel_rate[type_of_car][driving_pattern]\n",
    "print(f\"Fuel required: {fuel_required:.2f} liters.\")\n",
    "        "
   ]
  },
  {
   "cell_type": "markdown",
   "id": "57256a71",
   "metadata": {},
   "source": [
    "#### 3.จงเขียนโปรแกรมเครื่องมือตรวจคำตอบข้อสอบปรนัย โดยโปรแกรมมีคุณสมบัติดังต่อไปนี้ \n",
    "- รับสตริงเฉลยและสตริงคำตอบนักเรียนต่อเนื่อง \n",
    "- เมื่อผู้ใช้พิมพ์ 'exit' (ไม่สนตัวพิมพ์เล็ก-ใหญ่) ในช่องสตริงเฉลย โปรแกรมจะจบการทำงานแล้วแสดงข้อความว่า 'Exiting program.  Goodbye!' \n",
    "- เปรียบเทียบคำตอบแต่ละข้อแบบไม่สนตัวพิมพ์เล็ก-ใหญ่ (เช่น 'A' เท่ากับ 'a')  แล้วนับจำนวนข้อที่ถูก แสดงข้อความว่า \"Number of correct  answers: [จำนวนข้อที่ถูก]\" \n",
    "- ถ้าจำนวนข้อของเฉลยไม่ตรงกับของคำตอบ ให้แสดง Incomplete answer"
   ]
  },
  {
   "cell_type": "code",
   "execution_count": null,
   "id": "584178dd",
   "metadata": {},
   "outputs": [
    {
     "name": "stdout",
     "output_type": "stream",
     "text": [
      "--- Multiple Choice Answer Checker ---\n",
      "Number of correct answers: 4\n",
      "Incomplete answers\n",
      "Exiting program. Goodbye!\n"
     ]
    }
   ],
   "source": [
    "print(\"--- Multiple Choice Answer Checker ---\")\n",
    "\n",
    "correct_answers = input(\"Enter the string of correct answers: \")\n",
    "while True:\n",
    "    student_answers = input(\"Enter the string of student's answers: \")\n",
    "    number_of_correct = 0\n",
    "\n",
    "    if len(correct_answers) != len(student_answers):\n",
    "        print(\"Incomplete answers\")\n",
    "    else:\n",
    "        for i in range(len(student_answers)):\n",
    "            if correct_answers[i].lower() == student_answers[i].lower():\n",
    "                number_of_correct += 1\n",
    "        print(f\"Number of correct answers: {number_of_correct}\")\n",
    "    \n",
    "    correct_answers = input(f\"Enter the correct answers (type 'exit') to quit\")\n",
    "    if correct_answers.lower() == 'exit':\n",
    "        break\n",
    "\n",
    "print(\"Exiting program. Goodbye!\")"
   ]
  },
  {
   "cell_type": "markdown",
   "id": "0ce512f1",
   "metadata": {},
   "source": [
    "#### 4.checksum เป็นการคำนวณค่าเพื่อตรวจสอบความถูกต้องของข้อมูล โดยมาก checksum จะเป็นการเติมเลข 1 หลักต่อท้ายค่าที่ต้องการ หากผู้ใช้ป้อนข้อมูลผิดพลาด ค่า checksum ที่คำนวณได้จะเปลี่ยนไป ทำให้ตรวจสอบในเบื้องต้นได้ว่าการป้อนข้อมูลถูกต้องหรือไม่ จงเขียนโปรแกรมเพื่อคำนวณหาค่า checksum เมื่อผู้ใช้ป้อนเลขประจำตัวประชาชน (13 หลัก) เข้ามาให้ระบบ เช่น 3795357249057 จะมี checksum (หลักแรก ขวาสุด) เป็น 7\n"
   ]
  },
  {
   "cell_type": "code",
   "execution_count": null,
   "id": "c961baeb",
   "metadata": {},
   "outputs": [
    {
     "name": "stdout",
     "output_type": "stream",
     "text": [
      "--- ID Checksum Calculator ---\n",
      "Calculated checksum digit 7\n"
     ]
    }
   ],
   "source": [
    "print(\"--- ID Checksum Calculator ---\")\n",
    "number_id = input(\"Enter 13-digit ID number: \")\n",
    "\n",
    "sum = 0\n",
    "j = 13\n",
    "for i in range(12):\n",
    "    sum += int(number_id[i]) * j\n",
    "    j -= 1\n",
    "\n",
    "fraction_of_sum = sum % 11\n",
    "checksum = 11 - fraction_of_sum\n",
    "\n",
    "print(f\"Calculated checksum digit {checksum}\")\n"
   ]
  }
 ],
 "metadata": {
  "kernelspec": {
   "display_name": "Python 3",
   "language": "python",
   "name": "python3"
  },
  "language_info": {
   "codemirror_mode": {
    "name": "ipython",
    "version": 3
   },
   "file_extension": ".py",
   "mimetype": "text/x-python",
   "name": "python",
   "nbconvert_exporter": "python",
   "pygments_lexer": "ipython3",
   "version": "3.11.9"
  }
 },
 "nbformat": 4,
 "nbformat_minor": 5
}
