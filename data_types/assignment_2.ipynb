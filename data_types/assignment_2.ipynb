{
 "cells": [
  {
   "cell_type": "code",
   "execution_count": 5,
   "id": "f8d7ed4c",
   "metadata": {},
   "outputs": [
    {
     "name": "stdout",
     "output_type": "stream",
     "text": [
      "free\n"
     ]
    }
   ],
   "source": [
    "x1, y1, radius1 = map(int, input(\"Enter x, y, radius for Circle 1: \").split())\n",
    "x2, y2, radius2 = map(int, input(\"Enter x, y, radius for Circle 2: \").split())\n",
    "\n",
    "d = ((x2 - x1) ** 2 + (y2 - y1) ** 2) ** 0.5\n",
    "if d < radius1 + radius2:\n",
    "    print(\"overlap\")\n",
    "elif d == radius1 + radius2:\n",
    "    print(\"touch\")\n",
    "elif d > radius1 + radius2:\n",
    "    print(\"free\")\n",
    "\n"
   ]
  },
  {
   "cell_type": "code",
   "execution_count": null,
   "id": "ad279d8e",
   "metadata": {},
   "outputs": [
    {
     "name": "stdout",
     "output_type": "stream",
     "text": [
      "Fuel required: 16.67 liters.\n"
     ]
    }
   ],
   "source": [
    "travel_distance = float(input(\"Enter travel distance (km): \"))\n",
    "type_of_car = int(input(\"Enter the type of car: \"))\n",
    "driving_pattern = int(input(\"Enter driving pattern: \"))\n",
    "fuel_required = 0.0\n",
    "\n",
    "fuel_rate = {\n",
    "    1: {1: 12, 2:10},\n",
    "    2: {1: 10, 2:8},\n",
    "    3: {1: 9, 2:7}\n",
    "}\n",
    "\n",
    "fuel_required = travel_distance / fuel_rate[type_of_car][driving_pattern]\n",
    "print(f\"Fuel required: {fuel_required:.2f} liters.\")\n",
    "        "
   ]
  },
  {
   "cell_type": "code",
   "execution_count": 23,
   "id": "584178dd",
   "metadata": {},
   "outputs": [
    {
     "name": "stdout",
     "output_type": "stream",
     "text": [
      "--- Multiple Choice Answer Checker ---\n",
      "Number of correct answers: 4\n",
      "Incomplete answers\n",
      "Exiting program. Goodbye!\n"
     ]
    }
   ],
   "source": [
    "print(\"--- Multiple Choice Answer Checker ---\")\n",
    "\n",
    "correct_answers = input(\"Enter the string of correct answers: \")\n",
    "while True:\n",
    "    student_answers = input(\"Enter the string of student's answers: \")\n",
    "    number_of_correct = 0\n",
    "\n",
    "    if len(correct_answers) != len(student_answers):\n",
    "        print(\"Incomplete answers\")\n",
    "    else:\n",
    "        for i in range(len(student_answers)):\n",
    "            if correct_answers[i].lower() == student_answers[i].lower():\n",
    "                number_of_correct += 1\n",
    "        print(f\"Number of correct answers: {number_of_correct}\")\n",
    "    \n",
    "    correct_answers = input(f\"Enter the correct answers (type 'exit') to quit\")\n",
    "    if correct_answers.lower() == 'exit':\n",
    "        break\n",
    "\n",
    "print(\"Exiting program. Goodbye!\")"
   ]
  },
  {
   "cell_type": "code",
   "execution_count": 9,
   "id": "c961baeb",
   "metadata": {},
   "outputs": [
    {
     "name": "stdout",
     "output_type": "stream",
     "text": [
      "--- ID Checksum Calculator ---\n",
      "Calculated checksum digit 7\n"
     ]
    }
   ],
   "source": [
    "print(\"--- ID Checksum Calculator ---\")\n",
    "number_id = input(\"Enter 13-digit ID number: \")\n",
    "\n",
    "sum = 0\n",
    "j = 13\n",
    "for i in range(12):\n",
    "    sum += int(number_id[i]) * j\n",
    "    j -= 1\n",
    "\n",
    "fraction_of_sum = sum % 11\n",
    "checksum = 11 - fraction_of_sum\n",
    "\n",
    "print(f\"Calculated checksum digit {checksum}\")\n"
   ]
  }
 ],
 "metadata": {
  "kernelspec": {
   "display_name": "Python 3",
   "language": "python",
   "name": "python3"
  },
  "language_info": {
   "codemirror_mode": {
    "name": "ipython",
    "version": 3
   },
   "file_extension": ".py",
   "mimetype": "text/x-python",
   "name": "python",
   "nbconvert_exporter": "python",
   "pygments_lexer": "ipython3",
   "version": "3.11.9"
  }
 },
 "nbformat": 4,
 "nbformat_minor": 5
}
