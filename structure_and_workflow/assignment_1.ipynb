{
 "cells": [
  {
   "cell_type": "code",
   "execution_count": 5,
   "id": "727cc615",
   "metadata": {},
   "outputs": [
    {
     "name": "stdout",
     "output_type": "stream",
     "text": [
      "The area of ABCD is 287.68 sq. cm.\n",
      "The diagonal of ABCD is 26.30589287593181 cm.\n"
     ]
    }
   ],
   "source": [
    "name = input(\"Enter the name of the rectangle: \")\n",
    "length_of_one_side = float(input(\"Enter the length of one side (cm.) : \"))\n",
    "length_of_other_side = float(input(\"Enter the length of the other side (cm.) : \"))\n",
    "area = length_of_one_side * length_of_other_side\n",
    "diagonal = (length_of_one_side ** 2 + length_of_other_side ** 2) ** 0.5\n",
    "\n",
    "print(f\"The area of {name} is {area} sq. cm.\")\n",
    "print(f\"The diagonal of {name} is {diagonal} cm.\")"
   ]
  },
  {
   "cell_type": "code",
   "execution_count": 11,
   "id": "5ff1ffef",
   "metadata": {},
   "outputs": [
    {
     "name": "stdout",
     "output_type": "stream",
     "text": [
      "Your user name is C93Yok\n"
     ]
    }
   ],
   "source": [
    "name = input(\"Enter you name : \")\n",
    "year_of_birth = int(input(\"Enter your year of birth : \"))\n",
    "user_name = f\"C{str(year_of_birth-543)[2:4]}{name}\"\n",
    "\n",
    "print(f\"Your user name is {user_name}\")"
   ]
  },
  {
   "cell_type": "code",
   "execution_count": 15,
   "id": "e17eb8d4",
   "metadata": {},
   "outputs": [
    {
     "name": "stdout",
     "output_type": "stream",
     "text": [
      "Maximum number of people the lift can carry: 7\n"
     ]
    }
   ],
   "source": [
    "max_weight = int(input(\"Enter the maximum weight the lift can carry (kg): \"))\n",
    "avg_weight_per_person = int(input(\"Enter the average weight per person (kg): \"))\n",
    "max_people = max_weight // avg_weight_per_person\n",
    "\n",
    "print(f\"Maximum number of people the lift can carry: {max_people}\")"
   ]
  },
  {
   "cell_type": "code",
   "execution_count": 20,
   "id": "ecb26076",
   "metadata": {},
   "outputs": [
    {
     "name": "stdout",
     "output_type": "stream",
     "text": [
      "The product ID is: GAM-202412e\n"
     ]
    }
   ],
   "source": [
    "product_name = input(\"Please enter the product name: \")\n",
    "manufacture_date = input(\"Please enter the manufacture date (DD-MM-YYYY): \")\n",
    "product_id = f\"{product_name[:3].upper()}-{manufacture_date[6:10]}{len(product_name)}{product_name[-1]}\"\n",
    "\n",
    "print(f\"The product ID is: {product_id}\")\n"
   ]
  },
  {
   "cell_type": "code",
   "execution_count": 23,
   "id": "b69b39e6",
   "metadata": {},
   "outputs": [
    {
     "name": "stdout",
     "output_type": "stream",
     "text": [
      "False\n"
     ]
    }
   ],
   "source": [
    "a = float(input(\"Enter a: \"))\n",
    "b = float(input(\"Enter b: \"))\n",
    "c = float(input(\"Enter c: \"))\n",
    "\n",
    "if (b ** 2 - 4 * a * c < 0):\n",
    "    print(False)\n",
    "else:\n",
    "    print(True)"
   ]
  },
  {
   "cell_type": "code",
   "execution_count": 47,
   "id": "a82a4a97",
   "metadata": {},
   "outputs": [
    {
     "name": "stdout",
     "output_type": "stream",
     "text": [
      "--- ID Checksum Calculator ---\n",
      "Calculated checksum digit 7\n"
     ]
    }
   ],
   "source": [
    "print(\"--- ID Checksum Calculator ---\")\n",
    "number_id = input(\"Enter 13-digit ID number: \")\n",
    "\n",
    "sum = 0\n",
    "j = 13\n",
    "for i in range(12):\n",
    "    sum += int(number_id[i]) * j\n",
    "    j -= 1\n",
    "\n",
    "fraction_of_sum = sum % 11\n",
    "checksum = 11 - fraction_of_sum\n",
    "\n",
    "print(f\"Calculated checksum digit {checksum}\")\n"
   ]
  }
 ],
 "metadata": {
  "kernelspec": {
   "display_name": "Python 3",
   "language": "python",
   "name": "python3"
  },
  "language_info": {
   "codemirror_mode": {
    "name": "ipython",
    "version": 3
   },
   "file_extension": ".py",
   "mimetype": "text/x-python",
   "name": "python",
   "nbconvert_exporter": "python",
   "pygments_lexer": "ipython3",
   "version": "3.11.9"
  }
 },
 "nbformat": 4,
 "nbformat_minor": 5
}
