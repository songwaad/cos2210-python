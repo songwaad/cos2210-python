{
 "cells": [
  {
   "cell_type": "markdown",
   "id": "3d8635d9",
   "metadata": {},
   "source": [
    "#### 1.จงเขียนโปรแกรมที่รับชื่อของสี่เหลี่ยมมุมฉาก เช่น ABCD และความยาวของด้านที่ตั้งฉากกันสองด้าน แล้วคำนวณหาพื้นที่ของสี่เหลี่ยมและความยาวของเส้นทแยงมุม พร้อมทั้งแสดงผลลัพธ์"
   ]
  },
  {
   "cell_type": "code",
   "execution_count": 5,
   "id": "727cc615",
   "metadata": {},
   "outputs": [
    {
     "name": "stdout",
     "output_type": "stream",
     "text": [
      "The area of ABCD is 287.68 sq. cm.\n",
      "The diagonal of ABCD is 26.30589287593181 cm.\n"
     ]
    }
   ],
   "source": [
    "name = input(\"Enter the name of the rectangle: \")\n",
    "length_of_one_side = float(input(\"Enter the length of one side (cm.) : \"))\n",
    "length_of_other_side = float(input(\"Enter the length of the other side (cm.) : \"))\n",
    "area = length_of_one_side * length_of_other_side\n",
    "diagonal = (length_of_one_side ** 2 + length_of_other_side ** 2) ** 0.5\n",
    "\n",
    "print(f\"The area of {name} is {area} sq. cm.\")\n",
    "print(f\"The diagonal of {name} is {diagonal} cm.\")"
   ]
  },
  {
   "cell_type": "markdown",
   "id": "65928a39",
   "metadata": {},
   "source": [
    "#### 2.จงเขียนโปรแกรมที่รับ ชื่อของผู้ใช้และปีเกิด เป็นปี พ.ศ. แล้วให้สร้างชื่อบัญชีของผู้ใช้ที่ เริ่มต้นด้วยตัวอักษร C ต่อด้วย เลขสองหลักของปี ค.ศ. ที่เกิด ต่อด้วยชื่อผู้ใช้"
   ]
  },
  {
   "cell_type": "code",
   "execution_count": 11,
   "id": "5ff1ffef",
   "metadata": {},
   "outputs": [
    {
     "name": "stdout",
     "output_type": "stream",
     "text": [
      "Your user name is C93Yok\n"
     ]
    }
   ],
   "source": [
    "name = input(\"Enter you name : \")\n",
    "year_of_birth = int(input(\"Enter your year of birth : \"))\n",
    "user_name = f\"C{str(year_of_birth-543)[2:4]}{name}\"\n",
    "\n",
    "print(f\"Your user name is {user_name}\")"
   ]
  },
  {
   "cell_type": "markdown",
   "id": "3d4a85f7",
   "metadata": {},
   "source": [
    "#### 3.จงเขียนโปรแกรมแสดงการคำนวณจำนวนคนสูงสุดที่ลิฟท์รับน้ำหนักได้ เมื่อให้ข้อมูลเข้าเป็นน้ำหนักที่ลิฟท์รับได้ และน้ำหนักเฉลี่ยของคน กำหนดให้น้ำหนักทั้งสองค่าเป็นจำนวนเต็ม"
   ]
  },
  {
   "cell_type": "code",
   "execution_count": 15,
   "id": "e17eb8d4",
   "metadata": {},
   "outputs": [
    {
     "name": "stdout",
     "output_type": "stream",
     "text": [
      "Maximum number of people the lift can carry: 7\n"
     ]
    }
   ],
   "source": [
    "max_weight = int(input(\"Enter the maximum weight the lift can carry (kg): \"))\n",
    "avg_weight_per_person = int(input(\"Enter the average weight per person (kg): \"))\n",
    "max_people = max_weight // avg_weight_per_person\n",
    "\n",
    "print(f\"Maximum number of people the lift can carry: {max_people}\")"
   ]
  },
  {
   "cell_type": "markdown",
   "id": "feb2b1d3",
   "metadata": {},
   "source": [
    "#### 4.บริษัทแห่งหนึ่งต้องการสร้างระบบสร้างรหัสสินค้าอัตโนมัติจาก \"ชื่อสินค้า\" และ \"วันที่ผลิต\" ในรูปแบบ DD-MM-YYYY (เช่น 09-07-2025) จงเขียนโปรแกรม เพื่อรับข้อมูลทั้งสองอย่าง แล้วสร้างรหัสสินค้าตามกฎต่อไปนี้:\n",
    "- นำ อักษร 3 ตัวแรก ของชื่อสินค้ามาแปลงเป็น ตัวพิมพ์ใหญ่ทั้งหมด\n",
    "- ตามด้วยเครื่องหมายขีดกลาง (-)\n",
    "- ตามด้วย ปี ค.ศ. ที่ผลิต (ดึงมาจากวันที่ผลิต)\n",
    "- ตามด้วย ความยาวทั้งหมดของชื่อสินค้า (จำนวนตัวอักษร)\n",
    "- ปิดท้ายด้วย ตัวอักษรตัวสุดท้าย ของชื่อสินค้า (ไม่ต้องแปลงตัวพิมพ์)\n"
   ]
  },
  {
   "cell_type": "code",
   "execution_count": 20,
   "id": "ecb26076",
   "metadata": {},
   "outputs": [
    {
     "name": "stdout",
     "output_type": "stream",
     "text": [
      "The product ID is: GAM-202412e\n"
     ]
    }
   ],
   "source": [
    "product_name = input(\"Please enter the product name: \")\n",
    "manufacture_date = input(\"Please enter the manufacture date (DD-MM-YYYY): \")\n",
    "product_id = f\"{product_name[:3].upper()}-{manufacture_date[6:10]}{len(product_name)}{product_name[-1]}\"\n",
    "\n",
    "print(f\"The product ID is: {product_id}\")\n"
   ]
  },
  {
   "cell_type": "markdown",
   "id": "8a37762d",
   "metadata": {},
   "source": [
    "#### 5.จงเขียนโปรแกรมที่รับสัมประสิทธิ์ a, b, c สำหรับสมการ ax2+ bx + c = 0 แล้วตรวจสอบว่าสมการนี้มีคำตอบที่เป็นจำนวนจริง หรือไม่ แสดงคำตอบเป็น ค่าความจริง True หรือ False\n"
   ]
  },
  {
   "cell_type": "code",
   "execution_count": 23,
   "id": "b69b39e6",
   "metadata": {},
   "outputs": [
    {
     "name": "stdout",
     "output_type": "stream",
     "text": [
      "False\n"
     ]
    }
   ],
   "source": [
    "a = float(input(\"Enter a: \"))\n",
    "b = float(input(\"Enter b: \"))\n",
    "c = float(input(\"Enter c: \"))\n",
    "\n",
    "if (b ** 2 - 4 * a * c < 0):\n",
    "    print(False)\n",
    "else:\n",
    "    print(True)"
   ]
  },
  {
   "cell_type": "markdown",
   "id": "740767bf",
   "metadata": {},
   "source": [
    "#### 6.checksum เป็นการคำนวณค่าเพื่อตรวจสอบความถูกต้องของข้อมูล โดยมาก checksum จะเป็นการเติมเลข 1 หลักต่อท้ายค่าที่ต้องการ หากผู้ใช้ป้อนข้อมูลผิดพลาด ค่า checksum ที่คำนวณได้จะเปลี่ยนไป ทำให้ตรวจสอบในเบื้องต้นได้ว่าการป้อนข้อมูลถูกต้องหรือไม่ จงเขียนโปรแกรมเพื่อคำนวณหาค่า checksum เมื่อผู้ใช้ป้อนเลขประจำตัวประชาชน (13 หลัก) เข้ามาให้ระบบ เช่น 3795357249057 จะมี checksum (หลักแรก ขวาสุด) เป็น 7\n"
   ]
  },
  {
   "cell_type": "code",
   "execution_count": 47,
   "id": "a82a4a97",
   "metadata": {},
   "outputs": [
    {
     "name": "stdout",
     "output_type": "stream",
     "text": [
      "--- ID Checksum Calculator ---\n",
      "Calculated checksum digit 7\n"
     ]
    }
   ],
   "source": [
    "print(\"--- ID Checksum Calculator ---\")\n",
    "number_id = input(\"Enter 13-digit ID number: \")\n",
    "\n",
    "sum = 0\n",
    "j = 13\n",
    "for i in range(12):\n",
    "    sum += int(number_id[i]) * j\n",
    "    j -= 1\n",
    "\n",
    "fraction_of_sum = sum % 11\n",
    "checksum = 11 - fraction_of_sum\n",
    "\n",
    "print(f\"Calculated checksum digit {checksum}\")\n"
   ]
  }
 ],
 "metadata": {
  "kernelspec": {
   "display_name": "Python 3",
   "language": "python",
   "name": "python3"
  },
  "language_info": {
   "codemirror_mode": {
    "name": "ipython",
    "version": 3
   },
   "file_extension": ".py",
   "mimetype": "text/x-python",
   "name": "python",
   "nbconvert_exporter": "python",
   "pygments_lexer": "ipython3",
   "version": "3.11.9"
  }
 },
 "nbformat": 4,
 "nbformat_minor": 5
}
