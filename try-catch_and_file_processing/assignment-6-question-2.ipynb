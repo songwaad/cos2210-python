{
 "cells": [
  {
   "cell_type": "code",
   "execution_count": 83,
   "id": "ecf71c5b",
   "metadata": {},
   "outputs": [],
   "source": [
    "def open_file(filename):\n",
    "    try:\n",
    "        with open(filename, encoding=\"utf-8\") as file:\n",
    "            return file.read()\n",
    "        \n",
    "    except Exception as e:\n",
    "        raise e"
   ]
  },
  {
   "cell_type": "code",
   "execution_count": 84,
   "id": "187013bd",
   "metadata": {},
   "outputs": [],
   "source": [
    "def is_equal(v1, v2):\n",
    "    return len(v1) == len(v2)"
   ]
  },
  {
   "cell_type": "code",
   "execution_count": 85,
   "id": "bc5d073d",
   "metadata": {},
   "outputs": [],
   "source": [
    "def dot(v1, v2):\n",
    "    sum = 0\n",
    "    for val1, val2 in zip(v1, v2):\n",
    "        sum = sum + (val1 * val2)\n",
    "    return sum"
   ]
  },
  {
   "cell_type": "code",
   "execution_count": 86,
   "id": "52fbb479",
   "metadata": {},
   "outputs": [
    {
     "name": "stdout",
     "output_type": "stream",
     "text": [
      "File vector3.txt:\n",
      "5.5 4.5 9.5 6 -4 7\n",
      "3 7.1 -3.5 5 6 9\n",
      "\n",
      "Choose your vector file: vector3.txt\n",
      "v1 = [5.5, 4.5, 9.5, 6.0, -4.0, 7.0]\n",
      "v1 = [3.0, 7.1, -3.5, 5.0, 6.0, 9.0]\n",
      "v1*v2 = 84.2\n"
     ]
    }
   ],
   "source": [
    "n = 3\n",
    "filename = f\"vector{n}.txt\"\n",
    "file = open_file(filename)\n",
    "\n",
    "print(f\"File {filename}:\")\n",
    "print(file)\n",
    "\n",
    "lines = file.splitlines()\n",
    "v1 = [float(x) for x in lines[0].split()]\n",
    "v2 = [float(x) for x in lines[1].split()]\n",
    "\n",
    "print(f\"Choose your vector file: {filename}\")\n",
    "print(f\"v1 = {v1}\")\n",
    "print(f\"v1 = {v2}\")\n",
    "\n",
    "if not is_equal(v1, v2):\n",
    "    print(\"Incompatible size\")\n",
    "else:\n",
    "    print(f\"v1*v2 = {dot(v1, v2)}\")"
   ]
  }
 ],
 "metadata": {
  "kernelspec": {
   "display_name": "Python 3",
   "language": "python",
   "name": "python3"
  },
  "language_info": {
   "codemirror_mode": {
    "name": "ipython",
    "version": 3
   },
   "file_extension": ".py",
   "mimetype": "text/x-python",
   "name": "python",
   "nbconvert_exporter": "python",
   "pygments_lexer": "ipython3",
   "version": "3.13.7"
  }
 },
 "nbformat": 4,
 "nbformat_minor": 5
}
