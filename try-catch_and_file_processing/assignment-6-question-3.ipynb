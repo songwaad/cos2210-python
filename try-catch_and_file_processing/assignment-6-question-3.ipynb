{
 "cells": [
  {
   "cell_type": "code",
   "execution_count": 34,
   "id": "f541567f",
   "metadata": {},
   "outputs": [],
   "source": [
    "def quad1(a, b, c):\n",
    "    return (-b + (b**2 - (4 * a * c )) ** (0.5)) / (2 * a)"
   ]
  },
  {
   "cell_type": "code",
   "execution_count": 35,
   "id": "23b0158f",
   "metadata": {},
   "outputs": [],
   "source": [
    "def quad2(a, b, c):\n",
    "    return (-b - (b**2 - (4 * a * c )) ** (0.5)) / (2 * a)"
   ]
  },
  {
   "cell_type": "code",
   "execution_count": 36,
   "id": "d0274737",
   "metadata": {},
   "outputs": [],
   "source": [
    "def open_file(filename):\n",
    "    try:\n",
    "        with open(filename, encoding=\"utf-8\") as file:\n",
    "            return file.read()\n",
    "    except Exception as e:\n",
    "        raise e"
   ]
  },
  {
   "cell_type": "code",
   "execution_count": 37,
   "id": "2f4371af",
   "metadata": {},
   "outputs": [
    {
     "name": "stdout",
     "output_type": "stream",
     "text": [
      "file : problems2.txt:\n",
      "1 1 2\n",
      "1 4 3\n",
      "5 -7 2\n",
      "0 1 5\n",
      "\n",
      "Choose your ploblem file:problems2.txt\n",
      "Invalid problem\n",
      "-1.0 -3.0\n",
      "1.0 0.4\n",
      "Invalid problem\n"
     ]
    }
   ],
   "source": [
    "n = 2\n",
    "\n",
    "filename = f\"problems{n}.txt\"\n",
    "print(f\"file : {filename}:\")\n",
    "file = open_file(filename)\n",
    "print(file)\n",
    "\n",
    "print(f\"Choose your ploblem file:{filename}\")\n",
    "\n",
    "lines = file.splitlines()\n",
    "a, b, c = [], [], []\n",
    "\n",
    "for line in lines:\n",
    "    nums = line.split()\n",
    "    a.append(int(nums[0]))\n",
    "    b.append(int(nums[1]))\n",
    "    c.append(int(nums[2]))\n",
    "\n",
    "for val_a, val_b, val_c in zip(a, b, c):\n",
    "    if val_a == 0 or (val_b**2 - (4 * val_a * val_c )) < 0:\n",
    "        print(\"Invalid problem\")\n",
    "        continue\n",
    "\n",
    "    print(quad1(val_a, val_b, val_c), quad2(val_a, val_b, val_c))\n"
   ]
  }
 ],
 "metadata": {
  "kernelspec": {
   "display_name": "Python 3",
   "language": "python",
   "name": "python3"
  },
  "language_info": {
   "codemirror_mode": {
    "name": "ipython",
    "version": 3
   },
   "file_extension": ".py",
   "mimetype": "text/x-python",
   "name": "python",
   "nbconvert_exporter": "python",
   "pygments_lexer": "ipython3",
   "version": "3.13.7"
  }
 },
 "nbformat": 4,
 "nbformat_minor": 5
}
