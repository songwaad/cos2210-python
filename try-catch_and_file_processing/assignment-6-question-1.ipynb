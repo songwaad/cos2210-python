{
 "cells": [
  {
   "cell_type": "code",
   "execution_count": 20,
   "id": "33c4dfd4",
   "metadata": {},
   "outputs": [],
   "source": [
    "def open_file(filename):\n",
    "    try:\n",
    "        with open(filename, encoding=\"utf-8\") as file:\n",
    "            return file.read()\n",
    "    except Exception as e:\n",
    "        raise e"
   ]
  },
  {
   "cell_type": "code",
   "execution_count": 21,
   "id": "f61deef5",
   "metadata": {},
   "outputs": [],
   "source": [
    "def robot_move(position, move):\n",
    "    match move:\n",
    "        case 'L':\n",
    "            position[0] = position[0] - 1\n",
    "        case 'R':\n",
    "            position[0] = position[0] + 1\n",
    "        case 'U':\n",
    "            position[1] = position[1] + 1\n",
    "        case 'D':\n",
    "            position[1] = position[1] - 1"
   ]
  },
  {
   "cell_type": "code",
   "execution_count": 22,
   "id": "6713756f",
   "metadata": {},
   "outputs": [
    {
     "name": "stdout",
     "output_type": "stream",
     "text": [
      "file : move2.txt:\n",
      "L\n",
      "L\n",
      "X\n",
      "U\n",
      "D\n",
      "Z\n",
      "R\n",
      "Choose your movefile: move2.txt\n",
      "Initial position : 10,20\n",
      "Invalid command\n"
     ]
    }
   ],
   "source": [
    "x = 10\n",
    "y = 20\n",
    "n = 2\n",
    "\n",
    "filename = f\"move{n}.txt\"\n",
    "print(f\"file : {filename}:\")\n",
    "file = open_file(filename)\n",
    "print(file)\n",
    "moves = file.splitlines()\n",
    "\n",
    "robot_stop_point = [x, y]\n",
    "\n",
    "print(f\"Choose your movefile: {filename}\")\n",
    "print(f\"Initial position : {x},{y}\")\n",
    "\n",
    "for move in moves:\n",
    "    if move not in ['L', 'R', 'U', 'D']:\n",
    "        print(\"Invalid command\")\n",
    "        break\n",
    "    robot_move(robot_stop_point, move)\n",
    "else:\n",
    "    print(f\"Robot stops at {robot_stop_point[0]},{robot_stop_point[1]}\")"
   ]
  }
 ],
 "metadata": {
  "kernelspec": {
   "display_name": "Python 3",
   "language": "python",
   "name": "python3"
  },
  "language_info": {
   "codemirror_mode": {
    "name": "ipython",
    "version": 3
   },
   "file_extension": ".py",
   "mimetype": "text/x-python",
   "name": "python",
   "nbconvert_exporter": "python",
   "pygments_lexer": "ipython3",
   "version": "3.13.7"
  }
 },
 "nbformat": 4,
 "nbformat_minor": 5
}
